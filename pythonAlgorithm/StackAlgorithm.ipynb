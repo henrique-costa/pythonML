{
 "cells": [
  {
   "cell_type": "markdown",
   "id": "4650903b",
   "metadata": {},
   "source": [
    "# LIFO (Last In, First Out) principle. \n",
    "\n",
    "Implementation:\n",
    "\n",
    "Push: Add an element to the top.\n",
    "Pop: Remove the element from the top.\n",
    "Peek: Look at the top element without removing it.\n",
    "IsEmpty: Check if the stack is empty."
   ]
  },
  {
   "cell_type": "code",
   "execution_count": null,
   "id": "3918060e",
   "metadata": {},
   "outputs": [],
   "source": [
    "class Stack:\n",
    "    def __init__(self):\n",
    "        self.stack = []\n",
    "\n",
    "    def push(self, item):\n",
    "        self.stack.append(item)\n",
    "\n",
    "    def pop(self):\n",
    "        if not self.is_empty():\n",
    "            return self.stack.pop()\n",
    "        else:\n",
    "            raise IndexError(\"pop from empty stack\")\n",
    "  \n",
    "    def peek(self):\n",
    "        if not self.is_empty():\n",
    "            return self.stack[-1]\n",
    "        else:\n",
    "            raise IndexError(\"peek from empty stack\")\n",
    "    \n",
    "    def is_empty(self):\n",
    "        return len(self.stack) == 0\n",
    "    \n",
    "    def size(self):\n",
    "        return len(self.stack)  \n",
    "    \n",
    "# Example usage\n",
    "stack = Stack()\n",
    "stack.push(1)\n",
    "stack.push(2)\n",
    "stack.push(3)\n",
    "\n",
    "print(stack.peek())  # Output: 3\n",
    "print(stack.size())  # Output: 3\n",
    "\n",
    "print(stack.pop())   # Output: 3\n",
    "print(stack.size())  # Output: 2\n",
    "\n",
    "print(stack.is_empty())  # Output: False\n",
    "\n",
    "stack.pop()\n",
    "stack.pop()\n",
    "\n",
    "print(stack.is_empty())  # Output: True"
   ]
  }
 ],
 "metadata": {
  "kernelspec": {
   "display_name": "Python 3",
   "language": "python",
   "name": "python3"
  },
  "language_info": {
   "codemirror_mode": {
    "name": "ipython",
    "version": 3
   },
   "file_extension": ".py",
   "mimetype": "text/x-python",
   "name": "python",
   "nbconvert_exporter": "python",
   "pygments_lexer": "ipython3",
   "version": "3.13.3"
  }
 },
 "nbformat": 4,
 "nbformat_minor": 5
}
